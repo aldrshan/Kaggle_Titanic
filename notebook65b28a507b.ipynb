{
 "cells": [
  {
   "cell_type": "code",
   "execution_count": 1,
   "id": "992bca0c",
   "metadata": {
    "_cell_guid": "b1076dfc-b9ad-4769-8c92-a6c4dae69d19",
    "_uuid": "8f2839f25d086af736a60e9eeb907d3b93b6e0e5",
    "execution": {
     "iopub.execute_input": "2022-07-05T13:55:27.954429Z",
     "iopub.status.busy": "2022-07-05T13:55:27.953980Z",
     "iopub.status.idle": "2022-07-05T13:55:27.970578Z",
     "shell.execute_reply": "2022-07-05T13:55:27.969431Z"
    },
    "papermill": {
     "duration": 0.025948,
     "end_time": "2022-07-05T13:55:27.973726",
     "exception": false,
     "start_time": "2022-07-05T13:55:27.947778",
     "status": "completed"
    },
    "tags": []
   },
   "outputs": [
    {
     "name": "stdout",
     "output_type": "stream",
     "text": [
      "/kaggle/input/titanic/train.csv\n",
      "/kaggle/input/titanic/test.csv\n",
      "/kaggle/input/titanic/gender_submission.csv\n",
      "All Modules Initialized 🚀\n"
     ]
    }
   ],
   "source": [
    "# This Python 3 environment comes with many helpful analytics libraries installed\n",
    "# It is defined by the kaggle/python Docker image: https://github.com/kaggle/docker-python\n",
    "# For example, here's several helpful packages to load\n",
    "\n",
    "import numpy as np # linear algebra\n",
    "import pandas as pd # data processing, CSV file I/O (e.g. pd.read_csv)\n",
    "import matplotlib.pyplot as mp\n",
    "\n",
    "# Input data files are available in the read-only \"../input/\" directory\n",
    "# For example, running this (by clicking run or pressing Shift+Enter) will list all files under the input directory\n",
    "\n",
    "import os\n",
    "for dirname, _, filenames in os.walk('/kaggle/input'):\n",
    "    for filename in filenames:\n",
    "        print(os.path.join(dirname, filename))\n",
    "\n",
    "# You can write up to 20GB to the current directory (/kaggle/working/) that gets preserved as output when you create a version using \"Save & Run All\" \n",
    "# You can also write temporary files to /kaggle/temp/, but they won't be saved outside of the current session\n",
    "\n",
    "print(\"All Modules Initialized 🚀\")"
   ]
  },
  {
   "cell_type": "code",
   "execution_count": 2,
   "id": "e19171d3",
   "metadata": {
    "execution": {
     "iopub.execute_input": "2022-07-05T13:55:27.983472Z",
     "iopub.status.busy": "2022-07-05T13:55:27.983063Z",
     "iopub.status.idle": "2022-07-05T13:55:28.016719Z",
     "shell.execute_reply": "2022-07-05T13:55:28.015477Z"
    },
    "papermill": {
     "duration": 0.041136,
     "end_time": "2022-07-05T13:55:28.019495",
     "exception": false,
     "start_time": "2022-07-05T13:55:27.978359",
     "status": "completed"
    },
    "tags": []
   },
   "outputs": [],
   "source": [
    "columns_to_be_added_as_features = ['Sex','Age','SibSp','Parch','Pclass','Fare','Embarked']\n",
    "train = pd.read_csv('../input/titanic/train.csv', usecols=columns_to_be_added_as_features + ['Survived'])\n",
    "test = pd.read_csv('../input/titanic/test.csv', usecols=columns_to_be_added_as_features + ['PassengerId'])\n"
   ]
  },
  {
   "cell_type": "code",
   "execution_count": 3,
   "id": "f02eb633",
   "metadata": {
    "execution": {
     "iopub.execute_input": "2022-07-05T13:55:28.029610Z",
     "iopub.status.busy": "2022-07-05T13:55:28.028594Z",
     "iopub.status.idle": "2022-07-05T13:55:28.052535Z",
     "shell.execute_reply": "2022-07-05T13:55:28.051154Z"
    },
    "papermill": {
     "duration": 0.031915,
     "end_time": "2022-07-05T13:55:28.055236",
     "exception": false,
     "start_time": "2022-07-05T13:55:28.023321",
     "status": "completed"
    },
    "tags": []
   },
   "outputs": [
    {
     "data": {
      "text/html": [
       "<div>\n",
       "<style scoped>\n",
       "    .dataframe tbody tr th:only-of-type {\n",
       "        vertical-align: middle;\n",
       "    }\n",
       "\n",
       "    .dataframe tbody tr th {\n",
       "        vertical-align: top;\n",
       "    }\n",
       "\n",
       "    .dataframe thead th {\n",
       "        text-align: right;\n",
       "    }\n",
       "</style>\n",
       "<table border=\"1\" class=\"dataframe\">\n",
       "  <thead>\n",
       "    <tr style=\"text-align: right;\">\n",
       "      <th></th>\n",
       "      <th>Survived</th>\n",
       "      <th>Pclass</th>\n",
       "      <th>Sex</th>\n",
       "      <th>Age</th>\n",
       "      <th>SibSp</th>\n",
       "      <th>Parch</th>\n",
       "      <th>Fare</th>\n",
       "      <th>Embarked</th>\n",
       "    </tr>\n",
       "  </thead>\n",
       "  <tbody>\n",
       "    <tr>\n",
       "      <th>0</th>\n",
       "      <td>0</td>\n",
       "      <td>3</td>\n",
       "      <td>male</td>\n",
       "      <td>22.0</td>\n",
       "      <td>1</td>\n",
       "      <td>0</td>\n",
       "      <td>7.2500</td>\n",
       "      <td>S</td>\n",
       "    </tr>\n",
       "    <tr>\n",
       "      <th>1</th>\n",
       "      <td>1</td>\n",
       "      <td>1</td>\n",
       "      <td>female</td>\n",
       "      <td>38.0</td>\n",
       "      <td>1</td>\n",
       "      <td>0</td>\n",
       "      <td>71.2833</td>\n",
       "      <td>C</td>\n",
       "    </tr>\n",
       "    <tr>\n",
       "      <th>2</th>\n",
       "      <td>1</td>\n",
       "      <td>3</td>\n",
       "      <td>female</td>\n",
       "      <td>26.0</td>\n",
       "      <td>0</td>\n",
       "      <td>0</td>\n",
       "      <td>7.9250</td>\n",
       "      <td>S</td>\n",
       "    </tr>\n",
       "    <tr>\n",
       "      <th>3</th>\n",
       "      <td>1</td>\n",
       "      <td>1</td>\n",
       "      <td>female</td>\n",
       "      <td>35.0</td>\n",
       "      <td>1</td>\n",
       "      <td>0</td>\n",
       "      <td>53.1000</td>\n",
       "      <td>S</td>\n",
       "    </tr>\n",
       "    <tr>\n",
       "      <th>4</th>\n",
       "      <td>0</td>\n",
       "      <td>3</td>\n",
       "      <td>male</td>\n",
       "      <td>35.0</td>\n",
       "      <td>0</td>\n",
       "      <td>0</td>\n",
       "      <td>8.0500</td>\n",
       "      <td>S</td>\n",
       "    </tr>\n",
       "  </tbody>\n",
       "</table>\n",
       "</div>"
      ],
      "text/plain": [
       "   Survived  Pclass     Sex   Age  SibSp  Parch     Fare Embarked\n",
       "0         0       3    male  22.0      1      0   7.2500        S\n",
       "1         1       1  female  38.0      1      0  71.2833        C\n",
       "2         1       3  female  26.0      0      0   7.9250        S\n",
       "3         1       1  female  35.0      1      0  53.1000        S\n",
       "4         0       3    male  35.0      0      0   8.0500        S"
      ]
     },
     "execution_count": 3,
     "metadata": {},
     "output_type": "execute_result"
    }
   ],
   "source": [
    "#display all columns\n",
    "train.head()"
   ]
  },
  {
   "cell_type": "code",
   "execution_count": 4,
   "id": "6c75491f",
   "metadata": {
    "execution": {
     "iopub.execute_input": "2022-07-05T13:55:28.064427Z",
     "iopub.status.busy": "2022-07-05T13:55:28.064000Z",
     "iopub.status.idle": "2022-07-05T13:55:28.078382Z",
     "shell.execute_reply": "2022-07-05T13:55:28.077377Z"
    },
    "papermill": {
     "duration": 0.021745,
     "end_time": "2022-07-05T13:55:28.080895",
     "exception": false,
     "start_time": "2022-07-05T13:55:28.059150",
     "status": "completed"
    },
    "tags": []
   },
   "outputs": [],
   "source": [
    "for column_title in columns_to_be_added_as_features:\n",
    "    if column_title in ['Embarked', \"Sex\"]:\n",
    "        continue\n",
    "    train[column_title] = pd.to_numeric(train[column_title], downcast=\"float\")\n",
    "    test[column_title] = pd.to_numeric(test[column_title], downcast=\"float\")\n",
    "\n",
    "train[\"Survived\"] = pd.to_numeric(train[\"Survived\"], downcast=\"float\")"
   ]
  },
  {
   "cell_type": "markdown",
   "id": "47ee628a",
   "metadata": {
    "papermill": {
     "duration": 0.003324,
     "end_time": "2022-07-05T13:55:28.087945",
     "exception": false,
     "start_time": "2022-07-05T13:55:28.084621",
     "status": "completed"
    },
    "tags": []
   },
   "source": [
    "make text 1s and 0s"
   ]
  },
  {
   "cell_type": "code",
   "execution_count": 5,
   "id": "99e9f2d5",
   "metadata": {
    "execution": {
     "iopub.execute_input": "2022-07-05T13:55:28.096533Z",
     "iopub.status.busy": "2022-07-05T13:55:28.096132Z",
     "iopub.status.idle": "2022-07-05T13:55:28.126472Z",
     "shell.execute_reply": "2022-07-05T13:55:28.125613Z"
    },
    "papermill": {
     "duration": 0.037431,
     "end_time": "2022-07-05T13:55:28.128867",
     "exception": false,
     "start_time": "2022-07-05T13:55:28.091436",
     "status": "completed"
    },
    "tags": []
   },
   "outputs": [
    {
     "data": {
      "text/html": [
       "<div>\n",
       "<style scoped>\n",
       "    .dataframe tbody tr th:only-of-type {\n",
       "        vertical-align: middle;\n",
       "    }\n",
       "\n",
       "    .dataframe tbody tr th {\n",
       "        vertical-align: top;\n",
       "    }\n",
       "\n",
       "    .dataframe thead th {\n",
       "        text-align: right;\n",
       "    }\n",
       "</style>\n",
       "<table border=\"1\" class=\"dataframe\">\n",
       "  <thead>\n",
       "    <tr style=\"text-align: right;\">\n",
       "      <th></th>\n",
       "      <th>Survived</th>\n",
       "      <th>Pclass</th>\n",
       "      <th>Sex</th>\n",
       "      <th>Age</th>\n",
       "      <th>SibSp</th>\n",
       "      <th>Parch</th>\n",
       "      <th>Fare</th>\n",
       "      <th>Embarked</th>\n",
       "    </tr>\n",
       "  </thead>\n",
       "  <tbody>\n",
       "    <tr>\n",
       "      <th>0</th>\n",
       "      <td>0.0</td>\n",
       "      <td>3.0</td>\n",
       "      <td>0</td>\n",
       "      <td>22.0</td>\n",
       "      <td>1.0</td>\n",
       "      <td>0.0</td>\n",
       "      <td>7.250000</td>\n",
       "      <td>1.0</td>\n",
       "    </tr>\n",
       "    <tr>\n",
       "      <th>1</th>\n",
       "      <td>1.0</td>\n",
       "      <td>1.0</td>\n",
       "      <td>1</td>\n",
       "      <td>38.0</td>\n",
       "      <td>1.0</td>\n",
       "      <td>0.0</td>\n",
       "      <td>71.283302</td>\n",
       "      <td>2.0</td>\n",
       "    </tr>\n",
       "    <tr>\n",
       "      <th>2</th>\n",
       "      <td>1.0</td>\n",
       "      <td>3.0</td>\n",
       "      <td>1</td>\n",
       "      <td>26.0</td>\n",
       "      <td>0.0</td>\n",
       "      <td>0.0</td>\n",
       "      <td>7.925000</td>\n",
       "      <td>1.0</td>\n",
       "    </tr>\n",
       "    <tr>\n",
       "      <th>3</th>\n",
       "      <td>1.0</td>\n",
       "      <td>1.0</td>\n",
       "      <td>1</td>\n",
       "      <td>35.0</td>\n",
       "      <td>1.0</td>\n",
       "      <td>0.0</td>\n",
       "      <td>53.099998</td>\n",
       "      <td>1.0</td>\n",
       "    </tr>\n",
       "    <tr>\n",
       "      <th>4</th>\n",
       "      <td>0.0</td>\n",
       "      <td>3.0</td>\n",
       "      <td>0</td>\n",
       "      <td>35.0</td>\n",
       "      <td>0.0</td>\n",
       "      <td>0.0</td>\n",
       "      <td>8.050000</td>\n",
       "      <td>1.0</td>\n",
       "    </tr>\n",
       "  </tbody>\n",
       "</table>\n",
       "</div>"
      ],
      "text/plain": [
       "   Survived  Pclass  Sex   Age  SibSp  Parch       Fare  Embarked\n",
       "0       0.0     3.0    0  22.0    1.0    0.0   7.250000       1.0\n",
       "1       1.0     1.0    1  38.0    1.0    0.0  71.283302       2.0\n",
       "2       1.0     3.0    1  26.0    0.0    0.0   7.925000       1.0\n",
       "3       1.0     1.0    1  35.0    1.0    0.0  53.099998       1.0\n",
       "4       0.0     3.0    0  35.0    0.0    0.0   8.050000       1.0"
      ]
     },
     "execution_count": 5,
     "metadata": {},
     "output_type": "execute_result"
    }
   ],
   "source": [
    "train['Embarked'].replace('Q', 0,inplace=True)\n",
    "train['Embarked'].replace('S', 1,inplace=True)\n",
    "train['Embarked'].replace('C', 2,inplace=True)\n",
    "\n",
    "test['Embarked'].replace('Q', 0,inplace=True)\n",
    "test['Embarked'].replace('S', 1,inplace=True)\n",
    "test['Embarked'].replace('C', 2,inplace=True)\n",
    "\n",
    "train['Sex'].replace('male', 0,inplace=True)\n",
    "train['Sex'].replace('female', 1,inplace=True)\n",
    "\n",
    "test['Sex'].replace('male', 0,inplace=True)\n",
    "test['Sex'].replace('female', 1,inplace=True)\n",
    "\n",
    "train.head()"
   ]
  },
  {
   "cell_type": "markdown",
   "id": "f73f8014",
   "metadata": {
    "papermill": {
     "duration": 0.00371,
     "end_time": "2022-07-05T13:55:28.136606",
     "exception": false,
     "start_time": "2022-07-05T13:55:28.132896",
     "status": "completed"
    },
    "tags": []
   },
   "source": [
    "Not sure if I need to normalize data"
   ]
  },
  {
   "cell_type": "code",
   "execution_count": 6,
   "id": "6c728e15",
   "metadata": {
    "execution": {
     "iopub.execute_input": "2022-07-05T13:55:28.146228Z",
     "iopub.status.busy": "2022-07-05T13:55:28.145862Z",
     "iopub.status.idle": "2022-07-05T13:55:28.177174Z",
     "shell.execute_reply": "2022-07-05T13:55:28.175942Z"
    },
    "papermill": {
     "duration": 0.038907,
     "end_time": "2022-07-05T13:55:28.179577",
     "exception": false,
     "start_time": "2022-07-05T13:55:28.140670",
     "status": "completed"
    },
    "tags": []
   },
   "outputs": [
    {
     "data": {
      "text/html": [
       "<div>\n",
       "<style scoped>\n",
       "    .dataframe tbody tr th:only-of-type {\n",
       "        vertical-align: middle;\n",
       "    }\n",
       "\n",
       "    .dataframe tbody tr th {\n",
       "        vertical-align: top;\n",
       "    }\n",
       "\n",
       "    .dataframe thead th {\n",
       "        text-align: right;\n",
       "    }\n",
       "</style>\n",
       "<table border=\"1\" class=\"dataframe\">\n",
       "  <thead>\n",
       "    <tr style=\"text-align: right;\">\n",
       "      <th></th>\n",
       "      <th>Survived</th>\n",
       "      <th>Pclass</th>\n",
       "      <th>Sex</th>\n",
       "      <th>Age</th>\n",
       "      <th>SibSp</th>\n",
       "      <th>Parch</th>\n",
       "      <th>Fare</th>\n",
       "      <th>Embarked</th>\n",
       "    </tr>\n",
       "  </thead>\n",
       "  <tbody>\n",
       "    <tr>\n",
       "      <th>0</th>\n",
       "      <td>0.0</td>\n",
       "      <td>1.0</td>\n",
       "      <td>0.0</td>\n",
       "      <td>0.271174</td>\n",
       "      <td>0.125</td>\n",
       "      <td>0.0</td>\n",
       "      <td>0.014151</td>\n",
       "      <td>0.5</td>\n",
       "    </tr>\n",
       "    <tr>\n",
       "      <th>1</th>\n",
       "      <td>1.0</td>\n",
       "      <td>0.0</td>\n",
       "      <td>1.0</td>\n",
       "      <td>0.472229</td>\n",
       "      <td>0.125</td>\n",
       "      <td>0.0</td>\n",
       "      <td>0.139136</td>\n",
       "      <td>1.0</td>\n",
       "    </tr>\n",
       "    <tr>\n",
       "      <th>2</th>\n",
       "      <td>1.0</td>\n",
       "      <td>1.0</td>\n",
       "      <td>1.0</td>\n",
       "      <td>0.321438</td>\n",
       "      <td>0.000</td>\n",
       "      <td>0.0</td>\n",
       "      <td>0.015469</td>\n",
       "      <td>0.5</td>\n",
       "    </tr>\n",
       "    <tr>\n",
       "      <th>3</th>\n",
       "      <td>1.0</td>\n",
       "      <td>0.0</td>\n",
       "      <td>1.0</td>\n",
       "      <td>0.434531</td>\n",
       "      <td>0.125</td>\n",
       "      <td>0.0</td>\n",
       "      <td>0.103644</td>\n",
       "      <td>0.5</td>\n",
       "    </tr>\n",
       "    <tr>\n",
       "      <th>4</th>\n",
       "      <td>0.0</td>\n",
       "      <td>1.0</td>\n",
       "      <td>0.0</td>\n",
       "      <td>0.434531</td>\n",
       "      <td>0.000</td>\n",
       "      <td>0.0</td>\n",
       "      <td>0.015713</td>\n",
       "      <td>0.5</td>\n",
       "    </tr>\n",
       "  </tbody>\n",
       "</table>\n",
       "</div>"
      ],
      "text/plain": [
       "   Survived  Pclass  Sex       Age  SibSp  Parch      Fare  Embarked\n",
       "0       0.0     1.0  0.0  0.271174  0.125    0.0  0.014151       0.5\n",
       "1       1.0     0.0  1.0  0.472229  0.125    0.0  0.139136       1.0\n",
       "2       1.0     1.0  1.0  0.321438  0.000    0.0  0.015469       0.5\n",
       "3       1.0     0.0  1.0  0.434531  0.125    0.0  0.103644       0.5\n",
       "4       0.0     1.0  0.0  0.434531  0.000    0.0  0.015713       0.5"
      ]
     },
     "execution_count": 6,
     "metadata": {},
     "output_type": "execute_result"
    }
   ],
   "source": [
    "def normalize(df):\n",
    "    result = df.copy()\n",
    "    for feature_name in df.columns:\n",
    "        max_value = df[feature_name].max()\n",
    "        min_value = df[feature_name].min()\n",
    "        result[feature_name] = (df[feature_name] - min_value) / (max_value - min_value)\n",
    "    return result\n",
    "\n",
    "train = normalize(train)\n",
    "test = normalize(test)\n",
    "\n",
    "train.head()"
   ]
  },
  {
   "cell_type": "code",
   "execution_count": 7,
   "id": "1c302a74",
   "metadata": {
    "execution": {
     "iopub.execute_input": "2022-07-05T13:55:28.189677Z",
     "iopub.status.busy": "2022-07-05T13:55:28.189288Z",
     "iopub.status.idle": "2022-07-05T13:55:28.195306Z",
     "shell.execute_reply": "2022-07-05T13:55:28.194346Z"
    },
    "papermill": {
     "duration": 0.013767,
     "end_time": "2022-07-05T13:55:28.197581",
     "exception": false,
     "start_time": "2022-07-05T13:55:28.183814",
     "status": "completed"
    },
    "tags": []
   },
   "outputs": [],
   "source": [
    "train = train.fillna(0)\n",
    "test = test.fillna(0)"
   ]
  }
 ],
 "metadata": {
  "kernelspec": {
   "display_name": "Python 3",
   "language": "python",
   "name": "python3"
  },
  "language_info": {
   "codemirror_mode": {
    "name": "ipython",
    "version": 3
   },
   "file_extension": ".py",
   "mimetype": "text/x-python",
   "name": "python",
   "nbconvert_exporter": "python",
   "pygments_lexer": "ipython3",
   "version": "3.7.12"
  },
  "papermill": {
   "default_parameters": {},
   "duration": 11.297779,
   "end_time": "2022-07-05T13:55:28.822909",
   "environment_variables": {},
   "exception": null,
   "input_path": "__notebook__.ipynb",
   "output_path": "__notebook__.ipynb",
   "parameters": {},
   "start_time": "2022-07-05T13:55:17.525130",
   "version": "2.3.4"
  }
 },
 "nbformat": 4,
 "nbformat_minor": 5
}
