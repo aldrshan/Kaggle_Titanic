{
 "cells": [
  {
   "cell_type": "code",
   "execution_count": 1,
   "id": "7e144053",
   "metadata": {
    "_cell_guid": "b1076dfc-b9ad-4769-8c92-a6c4dae69d19",
    "_uuid": "8f2839f25d086af736a60e9eeb907d3b93b6e0e5",
    "execution": {
     "iopub.execute_input": "2022-07-05T18:04:19.635816Z",
     "iopub.status.busy": "2022-07-05T18:04:19.634939Z",
     "iopub.status.idle": "2022-07-05T18:04:19.650170Z",
     "shell.execute_reply": "2022-07-05T18:04:19.649084Z"
    },
    "papermill": {
     "duration": 0.023684,
     "end_time": "2022-07-05T18:04:19.652607",
     "exception": false,
     "start_time": "2022-07-05T18:04:19.628923",
     "status": "completed"
    },
    "tags": []
   },
   "outputs": [
    {
     "name": "stdout",
     "output_type": "stream",
     "text": [
      "/kaggle/input/titanic/train.csv\n",
      "/kaggle/input/titanic/test.csv\n",
      "/kaggle/input/titanic/gender_submission.csv\n",
      "All Modules Initialized 🚀\n"
     ]
    }
   ],
   "source": [
    "# This Python 3 environment comes with many helpful analytics libraries installed\n",
    "# It is defined by the kaggle/python Docker image: https://github.com/kaggle/docker-python\n",
    "# For example, here's several helpful packages to load\n",
    "\n",
    "import numpy as np # linear algebra\n",
    "import pandas as pd # data processing, CSV file I/O (e.g. pd.read_csv)\n",
    "import matplotlib.pyplot as mp\n",
    "\n",
    "# Input data files are available in the read-only \"../input/\" directory\n",
    "# For example, running this (by clicking run or pressing Shift+Enter) will list all files under the input directory\n",
    "\n",
    "import os\n",
    "for dirname, _, filenames in os.walk('/kaggle/input'):\n",
    "    for filename in filenames:\n",
    "        print(os.path.join(dirname, filename))\n",
    "\n",
    "# You can write up to 20GB to the current directory (/kaggle/working/) that gets preserved as output when you create a version using \"Save & Run All\" \n",
    "# You can also write temporary files to /kaggle/temp/, but they won't be saved outside of the current session\n",
    "\n",
    "print(\"All Modules Initialized 🚀\")"
   ]
  },
  {
   "cell_type": "code",
   "execution_count": 2,
   "id": "53031adb",
   "metadata": {
    "execution": {
     "iopub.execute_input": "2022-07-05T18:04:19.661314Z",
     "iopub.status.busy": "2022-07-05T18:04:19.660556Z",
     "iopub.status.idle": "2022-07-05T18:04:19.686483Z",
     "shell.execute_reply": "2022-07-05T18:04:19.685564Z"
    },
    "papermill": {
     "duration": 0.032997,
     "end_time": "2022-07-05T18:04:19.688965",
     "exception": false,
     "start_time": "2022-07-05T18:04:19.655968",
     "status": "completed"
    },
    "tags": []
   },
   "outputs": [],
   "source": [
    "columns_to_be_added_as_features = ['Sex','Age','SibSp','Parch','Pclass','Fare','Embarked']\n",
    "train = pd.read_csv('../input/titanic/train.csv', usecols=columns_to_be_added_as_features + ['Survived'])\n",
    "test = pd.read_csv('../input/titanic/test.csv', usecols=columns_to_be_added_as_features + ['PassengerId'])\n"
   ]
  },
  {
   "cell_type": "code",
   "execution_count": 3,
   "id": "6c046478",
   "metadata": {
    "execution": {
     "iopub.execute_input": "2022-07-05T18:04:19.697455Z",
     "iopub.status.busy": "2022-07-05T18:04:19.696707Z",
     "iopub.status.idle": "2022-07-05T18:04:19.717344Z",
     "shell.execute_reply": "2022-07-05T18:04:19.716168Z"
    },
    "papermill": {
     "duration": 0.027507,
     "end_time": "2022-07-05T18:04:19.719776",
     "exception": false,
     "start_time": "2022-07-05T18:04:19.692269",
     "status": "completed"
    },
    "tags": []
   },
   "outputs": [
    {
     "data": {
      "text/html": [
       "<div>\n",
       "<style scoped>\n",
       "    .dataframe tbody tr th:only-of-type {\n",
       "        vertical-align: middle;\n",
       "    }\n",
       "\n",
       "    .dataframe tbody tr th {\n",
       "        vertical-align: top;\n",
       "    }\n",
       "\n",
       "    .dataframe thead th {\n",
       "        text-align: right;\n",
       "    }\n",
       "</style>\n",
       "<table border=\"1\" class=\"dataframe\">\n",
       "  <thead>\n",
       "    <tr style=\"text-align: right;\">\n",
       "      <th></th>\n",
       "      <th>Survived</th>\n",
       "      <th>Pclass</th>\n",
       "      <th>Sex</th>\n",
       "      <th>Age</th>\n",
       "      <th>SibSp</th>\n",
       "      <th>Parch</th>\n",
       "      <th>Fare</th>\n",
       "      <th>Embarked</th>\n",
       "    </tr>\n",
       "  </thead>\n",
       "  <tbody>\n",
       "    <tr>\n",
       "      <th>0</th>\n",
       "      <td>0</td>\n",
       "      <td>3</td>\n",
       "      <td>male</td>\n",
       "      <td>22.0</td>\n",
       "      <td>1</td>\n",
       "      <td>0</td>\n",
       "      <td>7.2500</td>\n",
       "      <td>S</td>\n",
       "    </tr>\n",
       "    <tr>\n",
       "      <th>1</th>\n",
       "      <td>1</td>\n",
       "      <td>1</td>\n",
       "      <td>female</td>\n",
       "      <td>38.0</td>\n",
       "      <td>1</td>\n",
       "      <td>0</td>\n",
       "      <td>71.2833</td>\n",
       "      <td>C</td>\n",
       "    </tr>\n",
       "    <tr>\n",
       "      <th>2</th>\n",
       "      <td>1</td>\n",
       "      <td>3</td>\n",
       "      <td>female</td>\n",
       "      <td>26.0</td>\n",
       "      <td>0</td>\n",
       "      <td>0</td>\n",
       "      <td>7.9250</td>\n",
       "      <td>S</td>\n",
       "    </tr>\n",
       "    <tr>\n",
       "      <th>3</th>\n",
       "      <td>1</td>\n",
       "      <td>1</td>\n",
       "      <td>female</td>\n",
       "      <td>35.0</td>\n",
       "      <td>1</td>\n",
       "      <td>0</td>\n",
       "      <td>53.1000</td>\n",
       "      <td>S</td>\n",
       "    </tr>\n",
       "    <tr>\n",
       "      <th>4</th>\n",
       "      <td>0</td>\n",
       "      <td>3</td>\n",
       "      <td>male</td>\n",
       "      <td>35.0</td>\n",
       "      <td>0</td>\n",
       "      <td>0</td>\n",
       "      <td>8.0500</td>\n",
       "      <td>S</td>\n",
       "    </tr>\n",
       "  </tbody>\n",
       "</table>\n",
       "</div>"
      ],
      "text/plain": [
       "   Survived  Pclass     Sex   Age  SibSp  Parch     Fare Embarked\n",
       "0         0       3    male  22.0      1      0   7.2500        S\n",
       "1         1       1  female  38.0      1      0  71.2833        C\n",
       "2         1       3  female  26.0      0      0   7.9250        S\n",
       "3         1       1  female  35.0      1      0  53.1000        S\n",
       "4         0       3    male  35.0      0      0   8.0500        S"
      ]
     },
     "execution_count": 3,
     "metadata": {},
     "output_type": "execute_result"
    }
   ],
   "source": [
    "#display all columns\n",
    "train.head()"
   ]
  },
  {
   "cell_type": "code",
   "execution_count": 4,
   "id": "93d9c495",
   "metadata": {
    "execution": {
     "iopub.execute_input": "2022-07-05T18:04:19.728276Z",
     "iopub.status.busy": "2022-07-05T18:04:19.727910Z",
     "iopub.status.idle": "2022-07-05T18:04:19.740576Z",
     "shell.execute_reply": "2022-07-05T18:04:19.739323Z"
    },
    "papermill": {
     "duration": 0.019898,
     "end_time": "2022-07-05T18:04:19.743084",
     "exception": false,
     "start_time": "2022-07-05T18:04:19.723186",
     "status": "completed"
    },
    "tags": []
   },
   "outputs": [],
   "source": [
    "for column_title in columns_to_be_added_as_features:\n",
    "    if column_title in ['Embarked', \"Sex\"]:\n",
    "        continue\n",
    "    train[column_title] = pd.to_numeric(train[column_title], downcast=\"float\")\n",
    "    test[column_title] = pd.to_numeric(test[column_title], downcast=\"float\")\n",
    "\n",
    "train[\"Survived\"] = pd.to_numeric(train[\"Survived\"], downcast=\"float\")"
   ]
  },
  {
   "cell_type": "markdown",
   "id": "fa7e89ec",
   "metadata": {
    "papermill": {
     "duration": 0.003162,
     "end_time": "2022-07-05T18:04:19.749885",
     "exception": false,
     "start_time": "2022-07-05T18:04:19.746723",
     "status": "completed"
    },
    "tags": []
   },
   "source": [
    "make text 1s and 0s"
   ]
  },
  {
   "cell_type": "code",
   "execution_count": 5,
   "id": "099f9ada",
   "metadata": {
    "execution": {
     "iopub.execute_input": "2022-07-05T18:04:19.758335Z",
     "iopub.status.busy": "2022-07-05T18:04:19.757956Z",
     "iopub.status.idle": "2022-07-05T18:04:19.783532Z",
     "shell.execute_reply": "2022-07-05T18:04:19.782433Z"
    },
    "papermill": {
     "duration": 0.032433,
     "end_time": "2022-07-05T18:04:19.785890",
     "exception": false,
     "start_time": "2022-07-05T18:04:19.753457",
     "status": "completed"
    },
    "tags": []
   },
   "outputs": [
    {
     "data": {
      "text/html": [
       "<div>\n",
       "<style scoped>\n",
       "    .dataframe tbody tr th:only-of-type {\n",
       "        vertical-align: middle;\n",
       "    }\n",
       "\n",
       "    .dataframe tbody tr th {\n",
       "        vertical-align: top;\n",
       "    }\n",
       "\n",
       "    .dataframe thead th {\n",
       "        text-align: right;\n",
       "    }\n",
       "</style>\n",
       "<table border=\"1\" class=\"dataframe\">\n",
       "  <thead>\n",
       "    <tr style=\"text-align: right;\">\n",
       "      <th></th>\n",
       "      <th>Survived</th>\n",
       "      <th>Pclass</th>\n",
       "      <th>Sex</th>\n",
       "      <th>Age</th>\n",
       "      <th>SibSp</th>\n",
       "      <th>Parch</th>\n",
       "      <th>Fare</th>\n",
       "      <th>Embarked</th>\n",
       "    </tr>\n",
       "  </thead>\n",
       "  <tbody>\n",
       "    <tr>\n",
       "      <th>0</th>\n",
       "      <td>0.0</td>\n",
       "      <td>3.0</td>\n",
       "      <td>0</td>\n",
       "      <td>22.0</td>\n",
       "      <td>1.0</td>\n",
       "      <td>0.0</td>\n",
       "      <td>7.250000</td>\n",
       "      <td>1.0</td>\n",
       "    </tr>\n",
       "    <tr>\n",
       "      <th>1</th>\n",
       "      <td>1.0</td>\n",
       "      <td>1.0</td>\n",
       "      <td>1</td>\n",
       "      <td>38.0</td>\n",
       "      <td>1.0</td>\n",
       "      <td>0.0</td>\n",
       "      <td>71.283302</td>\n",
       "      <td>2.0</td>\n",
       "    </tr>\n",
       "    <tr>\n",
       "      <th>2</th>\n",
       "      <td>1.0</td>\n",
       "      <td>3.0</td>\n",
       "      <td>1</td>\n",
       "      <td>26.0</td>\n",
       "      <td>0.0</td>\n",
       "      <td>0.0</td>\n",
       "      <td>7.925000</td>\n",
       "      <td>1.0</td>\n",
       "    </tr>\n",
       "    <tr>\n",
       "      <th>3</th>\n",
       "      <td>1.0</td>\n",
       "      <td>1.0</td>\n",
       "      <td>1</td>\n",
       "      <td>35.0</td>\n",
       "      <td>1.0</td>\n",
       "      <td>0.0</td>\n",
       "      <td>53.099998</td>\n",
       "      <td>1.0</td>\n",
       "    </tr>\n",
       "    <tr>\n",
       "      <th>4</th>\n",
       "      <td>0.0</td>\n",
       "      <td>3.0</td>\n",
       "      <td>0</td>\n",
       "      <td>35.0</td>\n",
       "      <td>0.0</td>\n",
       "      <td>0.0</td>\n",
       "      <td>8.050000</td>\n",
       "      <td>1.0</td>\n",
       "    </tr>\n",
       "  </tbody>\n",
       "</table>\n",
       "</div>"
      ],
      "text/plain": [
       "   Survived  Pclass  Sex   Age  SibSp  Parch       Fare  Embarked\n",
       "0       0.0     3.0    0  22.0    1.0    0.0   7.250000       1.0\n",
       "1       1.0     1.0    1  38.0    1.0    0.0  71.283302       2.0\n",
       "2       1.0     3.0    1  26.0    0.0    0.0   7.925000       1.0\n",
       "3       1.0     1.0    1  35.0    1.0    0.0  53.099998       1.0\n",
       "4       0.0     3.0    0  35.0    0.0    0.0   8.050000       1.0"
      ]
     },
     "execution_count": 5,
     "metadata": {},
     "output_type": "execute_result"
    }
   ],
   "source": [
    "train['Embarked'].replace('Q', 0,inplace=True)\n",
    "train['Embarked'].replace('S', 1,inplace=True)\n",
    "train['Embarked'].replace('C', 2,inplace=True)\n",
    "\n",
    "test['Embarked'].replace('Q', 0,inplace=True)\n",
    "test['Embarked'].replace('S', 1,inplace=True)\n",
    "test['Embarked'].replace('C', 2,inplace=True)\n",
    "\n",
    "train['Sex'].replace('male', 0,inplace=True)\n",
    "train['Sex'].replace('female', 1,inplace=True)\n",
    "\n",
    "test['Sex'].replace('male', 0,inplace=True)\n",
    "test['Sex'].replace('female', 1,inplace=True)\n",
    "\n",
    "train.head()"
   ]
  },
  {
   "cell_type": "code",
   "execution_count": 6,
   "id": "5416ba05",
   "metadata": {
    "execution": {
     "iopub.execute_input": "2022-07-05T18:04:19.795011Z",
     "iopub.status.busy": "2022-07-05T18:04:19.794624Z",
     "iopub.status.idle": "2022-07-05T18:04:19.821698Z",
     "shell.execute_reply": "2022-07-05T18:04:19.820369Z"
    },
    "papermill": {
     "duration": 0.034624,
     "end_time": "2022-07-05T18:04:19.824202",
     "exception": false,
     "start_time": "2022-07-05T18:04:19.789578",
     "status": "completed"
    },
    "tags": []
   },
   "outputs": [
    {
     "data": {
      "text/html": [
       "<div>\n",
       "<style scoped>\n",
       "    .dataframe tbody tr th:only-of-type {\n",
       "        vertical-align: middle;\n",
       "    }\n",
       "\n",
       "    .dataframe tbody tr th {\n",
       "        vertical-align: top;\n",
       "    }\n",
       "\n",
       "    .dataframe thead th {\n",
       "        text-align: right;\n",
       "    }\n",
       "</style>\n",
       "<table border=\"1\" class=\"dataframe\">\n",
       "  <thead>\n",
       "    <tr style=\"text-align: right;\">\n",
       "      <th></th>\n",
       "      <th>Survived</th>\n",
       "      <th>Pclass</th>\n",
       "      <th>Sex</th>\n",
       "      <th>Age</th>\n",
       "      <th>SibSp</th>\n",
       "      <th>Parch</th>\n",
       "      <th>Fare</th>\n",
       "      <th>Embarked</th>\n",
       "    </tr>\n",
       "  </thead>\n",
       "  <tbody>\n",
       "    <tr>\n",
       "      <th>0</th>\n",
       "      <td>0.0</td>\n",
       "      <td>1.0</td>\n",
       "      <td>0.0</td>\n",
       "      <td>0.271174</td>\n",
       "      <td>0.125</td>\n",
       "      <td>0.0</td>\n",
       "      <td>0.014151</td>\n",
       "      <td>0.5</td>\n",
       "    </tr>\n",
       "    <tr>\n",
       "      <th>1</th>\n",
       "      <td>1.0</td>\n",
       "      <td>0.0</td>\n",
       "      <td>1.0</td>\n",
       "      <td>0.472229</td>\n",
       "      <td>0.125</td>\n",
       "      <td>0.0</td>\n",
       "      <td>0.139136</td>\n",
       "      <td>1.0</td>\n",
       "    </tr>\n",
       "    <tr>\n",
       "      <th>2</th>\n",
       "      <td>1.0</td>\n",
       "      <td>1.0</td>\n",
       "      <td>1.0</td>\n",
       "      <td>0.321438</td>\n",
       "      <td>0.000</td>\n",
       "      <td>0.0</td>\n",
       "      <td>0.015469</td>\n",
       "      <td>0.5</td>\n",
       "    </tr>\n",
       "    <tr>\n",
       "      <th>3</th>\n",
       "      <td>1.0</td>\n",
       "      <td>0.0</td>\n",
       "      <td>1.0</td>\n",
       "      <td>0.434531</td>\n",
       "      <td>0.125</td>\n",
       "      <td>0.0</td>\n",
       "      <td>0.103644</td>\n",
       "      <td>0.5</td>\n",
       "    </tr>\n",
       "    <tr>\n",
       "      <th>4</th>\n",
       "      <td>0.0</td>\n",
       "      <td>1.0</td>\n",
       "      <td>0.0</td>\n",
       "      <td>0.434531</td>\n",
       "      <td>0.000</td>\n",
       "      <td>0.0</td>\n",
       "      <td>0.015713</td>\n",
       "      <td>0.5</td>\n",
       "    </tr>\n",
       "  </tbody>\n",
       "</table>\n",
       "</div>"
      ],
      "text/plain": [
       "   Survived  Pclass  Sex       Age  SibSp  Parch      Fare  Embarked\n",
       "0       0.0     1.0  0.0  0.271174  0.125    0.0  0.014151       0.5\n",
       "1       1.0     0.0  1.0  0.472229  0.125    0.0  0.139136       1.0\n",
       "2       1.0     1.0  1.0  0.321438  0.000    0.0  0.015469       0.5\n",
       "3       1.0     0.0  1.0  0.434531  0.125    0.0  0.103644       0.5\n",
       "4       0.0     1.0  0.0  0.434531  0.000    0.0  0.015713       0.5"
      ]
     },
     "execution_count": 6,
     "metadata": {},
     "output_type": "execute_result"
    }
   ],
   "source": [
    "def normalize(df):\n",
    "    result = df.copy()\n",
    "    for feature_name in df.columns:\n",
    "        max_value = df[feature_name].max()\n",
    "        min_value = df[feature_name].min()\n",
    "        result[feature_name] = (df[feature_name] - min_value) / (max_value - min_value)\n",
    "    return result\n",
    "\n",
    "train = normalize(train)\n",
    "test = normalize(test)\n",
    "\n",
    "train.head()"
   ]
  },
  {
   "cell_type": "code",
   "execution_count": 7,
   "id": "13d09526",
   "metadata": {
    "execution": {
     "iopub.execute_input": "2022-07-05T18:04:19.834191Z",
     "iopub.status.busy": "2022-07-05T18:04:19.833709Z",
     "iopub.status.idle": "2022-07-05T18:04:19.841486Z",
     "shell.execute_reply": "2022-07-05T18:04:19.840433Z"
    },
    "papermill": {
     "duration": 0.015845,
     "end_time": "2022-07-05T18:04:19.844358",
     "exception": false,
     "start_time": "2022-07-05T18:04:19.828513",
     "status": "completed"
    },
    "tags": []
   },
   "outputs": [],
   "source": [
    "train = train.fillna(0)\n",
    "test = test.fillna(0)"
   ]
  },
  {
   "cell_type": "code",
   "execution_count": 8,
   "id": "89ebc611",
   "metadata": {
    "execution": {
     "iopub.execute_input": "2022-07-05T18:04:19.853664Z",
     "iopub.status.busy": "2022-07-05T18:04:19.853282Z",
     "iopub.status.idle": "2022-07-05T18:04:19.864208Z",
     "shell.execute_reply": "2022-07-05T18:04:19.863049Z"
    },
    "papermill": {
     "duration": 0.01843,
     "end_time": "2022-07-05T18:04:19.866587",
     "exception": false,
     "start_time": "2022-07-05T18:04:19.848157",
     "status": "completed"
    },
    "tags": []
   },
   "outputs": [],
   "source": [
    "y = train.Survived\n",
    "train1 = ['Pclass', 'Sex', 'Age', 'SibSp', 'Parch', 'Fare', 'Embarked']\n",
    "X = train[train1] "
   ]
  },
  {
   "cell_type": "code",
   "execution_count": 9,
   "id": "49f6a1d7",
   "metadata": {
    "execution": {
     "iopub.execute_input": "2022-07-05T18:04:19.875541Z",
     "iopub.status.busy": "2022-07-05T18:04:19.874907Z",
     "iopub.status.idle": "2022-07-05T18:04:21.409669Z",
     "shell.execute_reply": "2022-07-05T18:04:21.408381Z"
    },
    "papermill": {
     "duration": 1.542441,
     "end_time": "2022-07-05T18:04:21.412628",
     "exception": false,
     "start_time": "2022-07-05T18:04:19.870187",
     "status": "completed"
    },
    "tags": []
   },
   "outputs": [
    {
     "data": {
      "text/plain": [
       "array([0., 1., 1., 1., 0.])"
      ]
     },
     "execution_count": 9,
     "metadata": {},
     "output_type": "execute_result"
    }
   ],
   "source": [
    "from sklearn.tree import DecisionTreeRegressor \n",
    "# Define model. Specify a number for random_state to ensure same results each run \n",
    "train_model = DecisionTreeRegressor(random_state=1)\n",
    " # Fit model \n",
    "train_model.fit(X, y)\n",
    "train_model.predict(X.head())"
   ]
  },
  {
   "cell_type": "code",
   "execution_count": 10,
   "id": "4522fe81",
   "metadata": {
    "execution": {
     "iopub.execute_input": "2022-07-05T18:04:21.423719Z",
     "iopub.status.busy": "2022-07-05T18:04:21.422496Z",
     "iopub.status.idle": "2022-07-05T18:04:21.433756Z",
     "shell.execute_reply": "2022-07-05T18:04:21.432447Z"
    },
    "papermill": {
     "duration": 0.019256,
     "end_time": "2022-07-05T18:04:21.436076",
     "exception": false,
     "start_time": "2022-07-05T18:04:21.416820",
     "status": "completed"
    },
    "tags": []
   },
   "outputs": [
    {
     "data": {
      "text/plain": [
       "0.021567527123082682"
      ]
     },
     "execution_count": 10,
     "metadata": {},
     "output_type": "execute_result"
    }
   ],
   "source": [
    "from sklearn.metrics import mean_absolute_error\n",
    "predicted = train_model.predict(X) \n",
    "mean_absolute_error(y, predicted) \n"
   ]
  }
 ],
 "metadata": {
  "kernelspec": {
   "display_name": "Python 3",
   "language": "python",
   "name": "python3"
  },
  "language_info": {
   "codemirror_mode": {
    "name": "ipython",
    "version": 3
   },
   "file_extension": ".py",
   "mimetype": "text/x-python",
   "name": "python",
   "nbconvert_exporter": "python",
   "pygments_lexer": "ipython3",
   "version": "3.7.12"
  },
  "papermill": {
   "default_parameters": {},
   "duration": 12.25545,
   "end_time": "2022-07-05T18:04:22.364060",
   "environment_variables": {},
   "exception": null,
   "input_path": "__notebook__.ipynb",
   "output_path": "__notebook__.ipynb",
   "parameters": {},
   "start_time": "2022-07-05T18:04:10.108610",
   "version": "2.3.4"
  }
 },
 "nbformat": 4,
 "nbformat_minor": 5
}
