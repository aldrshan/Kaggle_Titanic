{
 "cells": [
  {
   "cell_type": "code",
   "execution_count": 1,
   "id": "65f03ec1",
   "metadata": {
    "execution": {
     "iopub.execute_input": "2022-07-05T19:07:48.338669Z",
     "iopub.status.busy": "2022-07-05T19:07:48.337618Z",
     "iopub.status.idle": "2022-07-05T19:07:48.351401Z",
     "shell.execute_reply": "2022-07-05T19:07:48.350516Z"
    },
    "papermill": {
     "duration": 0.022973,
     "end_time": "2022-07-05T19:07:48.354855",
     "exception": false,
     "start_time": "2022-07-05T19:07:48.331882",
     "status": "completed"
    },
    "tags": []
   },
   "outputs": [
    {
     "name": "stdout",
     "output_type": "stream",
     "text": [
      "/kaggle/input/titanic/train.csv\n",
      "/kaggle/input/titanic/test.csv\n",
      "/kaggle/input/titanic/gender_submission.csv\n",
      "All Modules Initialized 🚀\n"
     ]
    }
   ],
   "source": [
    "# This Python 3 environment comes with many helpful analytics libraries installed\n",
    "# It is defined by the kaggle/python Docker image: https://github.com/kaggle/docker-python\n",
    "# For example, here's several helpful packages to load\n",
    "\n",
    "import numpy as np # linear algebra\n",
    "import pandas as pd # data processing, CSV file I/O (e.g. pd.read_csv)\n",
    "import matplotlib.pyplot as mp\n",
    "\n",
    "# Input data files are available in the read-only \"../input/\" directory\n",
    "# For example, running this (by clicking run or pressing Shift+Enter) will list all files under the input directory\n",
    "\n",
    "import os\n",
    "for dirname, _, filenames in os.walk('/kaggle/input'):\n",
    "    for filename in filenames:\n",
    "        print(os.path.join(dirname, filename))\n",
    "\n",
    "# You can write up to 20GB to the current directory (/kaggle/working/) that gets preserved as output when you create a version using \"Save & Run All\" \n",
    "# You can also write temporary files to /kaggle/temp/, but they won't be saved outside of the current session\n",
    "\n",
    "print(\"All Modules Initialized 🚀\")"
   ]
  },
  {
   "cell_type": "code",
   "execution_count": 2,
   "id": "7bd0b5fa",
   "metadata": {
    "execution": {
     "iopub.execute_input": "2022-07-05T19:07:48.364182Z",
     "iopub.status.busy": "2022-07-05T19:07:48.363841Z",
     "iopub.status.idle": "2022-07-05T19:07:49.805384Z",
     "shell.execute_reply": "2022-07-05T19:07:49.804205Z"
    },
    "papermill": {
     "duration": 1.448829,
     "end_time": "2022-07-05T19:07:49.808156",
     "exception": false,
     "start_time": "2022-07-05T19:07:48.359327",
     "status": "completed"
    },
    "tags": []
   },
   "outputs": [],
   "source": [
    "import pandas as pd\n",
    "from sklearn.tree import DecisionTreeClassifier\n",
    "from sklearn.model_selection import train_test_split\n",
    "from sklearn.metrics import accuracy_score\n",
    "\n",
    "\"\"\"Assigning the train & test datasets' adresses to variables\"\"\"\n",
    "train_path = \"../input/titanic/train.csv\"\n",
    "test_path = \"../input/titanic/test.csv\"\n",
    "\n",
    "\"\"\"Using pandas' read_csv() function to read the datasets\n",
    "and then assigning them to their own variables\"\"\"\n",
    "train_data = pd.read_csv(train_path)\n",
    "test_data = pd.read_csv(test_path)"
   ]
  },
  {
   "cell_type": "code",
   "execution_count": 3,
   "id": "70bb9349",
   "metadata": {
    "execution": {
     "iopub.execute_input": "2022-07-05T19:07:49.816739Z",
     "iopub.status.busy": "2022-07-05T19:07:49.816353Z",
     "iopub.status.idle": "2022-07-05T19:07:49.832332Z",
     "shell.execute_reply": "2022-07-05T19:07:49.831312Z"
    },
    "papermill": {
     "duration": 0.02328,
     "end_time": "2022-07-05T19:07:49.834921",
     "exception": false,
     "start_time": "2022-07-05T19:07:49.811641",
     "status": "completed"
    },
    "tags": []
   },
   "outputs": [],
   "source": [
    "\"\"\"Using pandas' factorize() function to represent genders (male/female)\n",
    "with binary values (0/1)\"\"\"\n",
    "train_data['Sex'] = pd.factorize(train_data.Sex)[0]\n",
    "test_data['Sex'] = pd.factorize(test_data.Sex)[0]"
   ]
  },
  {
   "cell_type": "code",
   "execution_count": 4,
   "id": "02f99d82",
   "metadata": {
    "execution": {
     "iopub.execute_input": "2022-07-05T19:07:49.843904Z",
     "iopub.status.busy": "2022-07-05T19:07:49.843055Z",
     "iopub.status.idle": "2022-07-05T19:07:49.850049Z",
     "shell.execute_reply": "2022-07-05T19:07:49.849175Z"
    },
    "papermill": {
     "duration": 0.013955,
     "end_time": "2022-07-05T19:07:49.852365",
     "exception": false,
     "start_time": "2022-07-05T19:07:49.838410",
     "status": "completed"
    },
    "tags": []
   },
   "outputs": [],
   "source": [
    "\"\"\"Replacing missing values in the training and test dataset with 0\"\"\"\n",
    "train_data.fillna(0.0, inplace = True)\n",
    "test_data.fillna(0.0, inplace = True)"
   ]
  },
  {
   "cell_type": "code",
   "execution_count": 5,
   "id": "660f9343",
   "metadata": {
    "execution": {
     "iopub.execute_input": "2022-07-05T19:07:49.861344Z",
     "iopub.status.busy": "2022-07-05T19:07:49.860542Z",
     "iopub.status.idle": "2022-07-05T19:07:49.865157Z",
     "shell.execute_reply": "2022-07-05T19:07:49.864376Z"
    },
    "papermill": {
     "duration": 0.011562,
     "end_time": "2022-07-05T19:07:49.867384",
     "exception": false,
     "start_time": "2022-07-05T19:07:49.855822",
     "status": "completed"
    },
    "tags": []
   },
   "outputs": [],
   "source": [
    "\"\"\"Selecting features for training\"\"\"\n",
    "columns_of_interest = ['PassengerId','Pclass', 'Sex', 'Age']\n"
   ]
  },
  {
   "cell_type": "code",
   "execution_count": 6,
   "id": "d94b929c",
   "metadata": {
    "execution": {
     "iopub.execute_input": "2022-07-05T19:07:49.876534Z",
     "iopub.status.busy": "2022-07-05T19:07:49.875736Z",
     "iopub.status.idle": "2022-07-05T19:07:49.887266Z",
     "shell.execute_reply": "2022-07-05T19:07:49.886034Z"
    },
    "papermill": {
     "duration": 0.019116,
     "end_time": "2022-07-05T19:07:49.889978",
     "exception": false,
     "start_time": "2022-07-05T19:07:49.870862",
     "status": "completed"
    },
    "tags": []
   },
   "outputs": [],
   "source": [
    "\"\"\"Dropping missing/NaN values from the training dataset\"\"\"\n",
    "filtered_titanic_data = train_data.dropna(axis=0)"
   ]
  },
  {
   "cell_type": "code",
   "execution_count": 7,
   "id": "9cff950f",
   "metadata": {
    "execution": {
     "iopub.execute_input": "2022-07-05T19:07:49.899016Z",
     "iopub.status.busy": "2022-07-05T19:07:49.898586Z",
     "iopub.status.idle": "2022-07-05T19:07:49.904029Z",
     "shell.execute_reply": "2022-07-05T19:07:49.903137Z"
    },
    "papermill": {
     "duration": 0.012358,
     "end_time": "2022-07-05T19:07:49.906194",
     "exception": false,
     "start_time": "2022-07-05T19:07:49.893836",
     "status": "completed"
    },
    "tags": []
   },
   "outputs": [],
   "source": [
    "\"\"\"Using the predictory features in the data to handle the x axis\"\"\"\n",
    "x = filtered_titanic_data[columns_of_interest]"
   ]
  },
  {
   "cell_type": "code",
   "execution_count": 8,
   "id": "659f736b",
   "metadata": {
    "execution": {
     "iopub.execute_input": "2022-07-05T19:07:49.915218Z",
     "iopub.status.busy": "2022-07-05T19:07:49.914558Z",
     "iopub.status.idle": "2022-07-05T19:07:49.919045Z",
     "shell.execute_reply": "2022-07-05T19:07:49.918021Z"
    },
    "papermill": {
     "duration": 0.011317,
     "end_time": "2022-07-05T19:07:49.921135",
     "exception": false,
     "start_time": "2022-07-05T19:07:49.909818",
     "status": "completed"
    },
    "tags": []
   },
   "outputs": [],
   "source": [
    "\"\"\"The survival (what we're trying to find) is the y axis\"\"\"\n",
    "y = filtered_titanic_data.Survived"
   ]
  },
  {
   "cell_type": "code",
   "execution_count": 9,
   "id": "c8d7631c",
   "metadata": {
    "execution": {
     "iopub.execute_input": "2022-07-05T19:07:49.930000Z",
     "iopub.status.busy": "2022-07-05T19:07:49.929597Z",
     "iopub.status.idle": "2022-07-05T19:07:49.948261Z",
     "shell.execute_reply": "2022-07-05T19:07:49.947445Z"
    },
    "papermill": {
     "duration": 0.025854,
     "end_time": "2022-07-05T19:07:49.950434",
     "exception": false,
     "start_time": "2022-07-05T19:07:49.924580",
     "status": "completed"
    },
    "tags": []
   },
   "outputs": [
    {
     "data": {
      "text/plain": [
       "DecisionTreeClassifier()"
      ]
     },
     "execution_count": 9,
     "metadata": {},
     "output_type": "execute_result"
    }
   ],
   "source": [
    "\"\"\"Splitting the train data with test\"\"\"\n",
    "train_x, val_x, train_y, val_y = train_test_split(x, y, random_state=0)\n",
    "\n",
    "\"\"\"Assigning the DecisionClassifier model to a variable\"\"\"\n",
    "titanic_model = DecisionTreeClassifier()\n",
    "\n",
    "\"\"\"Fitting the x and y values with the model\"\"\"\n",
    "titanic_model.fit(train_x, train_y)"
   ]
  },
  {
   "cell_type": "code",
   "execution_count": 10,
   "id": "320b0991",
   "metadata": {
    "execution": {
     "iopub.execute_input": "2022-07-05T19:07:49.959832Z",
     "iopub.status.busy": "2022-07-05T19:07:49.959205Z",
     "iopub.status.idle": "2022-07-05T19:07:49.969050Z",
     "shell.execute_reply": "2022-07-05T19:07:49.967990Z"
    },
    "papermill": {
     "duration": 0.017721,
     "end_time": "2022-07-05T19:07:49.971944",
     "exception": false,
     "start_time": "2022-07-05T19:07:49.954223",
     "status": "completed"
    },
    "tags": []
   },
   "outputs": [],
   "source": [
    "\"\"\"Predicting the x-axis\"\"\"\n",
    "val_predictions = titanic_model.predict(val_x)\n",
    "\n",
    "\"\"\"Assigning the feature columns from the test to a variable\"\"\"\n",
    "test_x = test_data[columns_of_interest]\n",
    "\n",
    "\"\"\"Predicting the test by feeding its x axis into the model\"\"\"\n",
    "test_predictions = titanic_model.predict(test_x)"
   ]
  },
  {
   "cell_type": "code",
   "execution_count": 11,
   "id": "5eec6731",
   "metadata": {
    "execution": {
     "iopub.execute_input": "2022-07-05T19:07:49.981152Z",
     "iopub.status.busy": "2022-07-05T19:07:49.980708Z",
     "iopub.status.idle": "2022-07-05T19:07:49.988665Z",
     "shell.execute_reply": "2022-07-05T19:07:49.987450Z"
    },
    "papermill": {
     "duration": 0.015117,
     "end_time": "2022-07-05T19:07:49.990910",
     "exception": false,
     "start_time": "2022-07-05T19:07:49.975793",
     "status": "completed"
    },
    "tags": []
   },
   "outputs": [
    {
     "name": "stdout",
     "output_type": "stream",
     "text": [
      "[0 0 1 0 0 0 1 1 1 1 0 1 0 1 1 1 0 0 0 0 0 1 0 0 1 1 1 1 0 1 1 1 0 0 1 1 0\n",
      " 0 0 0 0 0 0 1 1 0 0 1 0 1 0 0 1 0 0 0 0 0 0 0 0 0 1 0 1 0 1 0 1 1 1 0 0 0\n",
      " 0 1 1 0 0 0 0 0 1 0 0 1 1 0 1 1 0 0 1 1 0 0 0 0 0 1 1 0 0 0 0 1 1 0 0 0 0\n",
      " 1 0 1 0 1 1 1 0 1 0 0 0 0 0 0 0 1 0 0 1 0 0 1 0 0 0 0 0 0 0 1 0 1 1 1 0 1\n",
      " 1 0 0 0 1 0 1 0 0 0 1 1 0 0 1 0 0 0 0 1 0 0 0 1 0 0 0 0 1 0 0 1 1 0 0 0 0\n",
      " 0 1 0 1 0 0 1 0 1 0 0 0 0 0 0 0 1 0 0 0 0 1 0 0 0 0 0 1 1 0 0 0 0 0 1 0 1\n",
      " 1]\n",
      "0.7174887892376681\n",
      "[0 0 0 1 0 1 0 0 0 0 0 1 1 0 1 1 0 0 0 0 0 1 1 1 1 0 1 0 1 0 0 0 0 0 1 0 0\n",
      " 0 0 0 0 0 0 1 1 0 1 0 1 0 1 0 1 1 0 1 0 0 0 1 0 0 0 0 1 1 0 1 1 1 0 0 0 1\n",
      " 1 1 0 1 0 0 1 0 1 0 0 0 0 0 0 1 0 0 1 0 1 0 1 0 0 0 1 0 0 0 0 0 0 0 0 0 0\n",
      " 0 1 0 1 0 0 0 1 1 1 0 1 0 0 0 0 0 0 0 0 1 0 0 0 0 0 0 0 0 0 1 0 0 1 0 0 0\n",
      " 0 0 1 0 0 0 1 0 1 0 1 0 0 1 1 0 0 0 1 0 1 0 0 1 0 0 0 1 1 0 1 1 0 1 1 0 1\n",
      " 0 1 0 0 0 0 0 1 0 1 0 1 0 0 0 0 0 1 1 0 0 0 0 1 0 0 0 0 0 0 1 0 0 1 0 1 0\n",
      " 1 0 1 0 0 0 0 0 1 1 0 0 1 0 0 0 1 1 1 0 1 0 0 1 1 0 1 0 1 0 1 0 0 0 0 0 1\n",
      " 0 0 0 1 0 0 0 0 0 0 0 1 0 1 0 0 1 0 0 0 0 0 0 0 0 0 0 0 1 0 0 0 0 0 1 0 0\n",
      " 1 0 1 0 0 0 0 0 0 1 1 0 0 0 0 0 0 0 1 0 0 0 1 0 0 0 0 1 1 0 1 1 0 0 0 1 0\n",
      " 0 1 1 0 0 0 0 0 0 0 1 0 0 0 0 0 1 1 0 0 0 0 1 1 0 0 0 0 1 1 1 0 0 0 0 1 0\n",
      " 0 1 1 0 1 1 0 0 0 1 0 0 0 0 0 1 0 0 0 1 1 1 1 0 0 1 0 1 0 0 1 0 1 1 1 0 0\n",
      " 1 0 0 0 1 0 0 1 0 0 0]\n"
     ]
    }
   ],
   "source": [
    "\n",
    "\n",
    "\n",
    "\n",
    "\"\"\"Printing the prediction\"\"\"\n",
    "print(val_predictions)\n",
    "\n",
    "\"\"\"Checking for the accuracy\"\"\"\n",
    "print(accuracy_score(val_y, val_predictions))\n",
    "\n",
    "\"\"\"Printing the test prediction\"\"\"\n",
    "print(test_predictions)\n",
    "\n"
   ]
  },
  {
   "cell_type": "code",
   "execution_count": 12,
   "id": "4db597d9",
   "metadata": {
    "execution": {
     "iopub.execute_input": "2022-07-05T19:07:50.000224Z",
     "iopub.status.busy": "2022-07-05T19:07:49.999813Z",
     "iopub.status.idle": "2022-07-05T19:07:50.010176Z",
     "shell.execute_reply": "2022-07-05T19:07:50.008965Z"
    },
    "papermill": {
     "duration": 0.01936,
     "end_time": "2022-07-05T19:07:50.013955",
     "exception": false,
     "start_time": "2022-07-05T19:07:49.994595",
     "status": "completed"
    },
    "tags": []
   },
   "outputs": [],
   "source": [
    "submission = pd.DataFrame({ 'PassengerId': test_data.PassengerId.values[:418], 'Survived': test_predictions[:418] })\n",
    "submission.to_csv(\"submission.csv\", index=False)"
   ]
  }
 ],
 "metadata": {
  "kernelspec": {
   "display_name": "Python 3",
   "language": "python",
   "name": "python3"
  },
  "language_info": {
   "codemirror_mode": {
    "name": "ipython",
    "version": 3
   },
   "file_extension": ".py",
   "mimetype": "text/x-python",
   "name": "python",
   "nbconvert_exporter": "python",
   "pygments_lexer": "ipython3",
   "version": "3.7.12"
  },
  "papermill": {
   "default_parameters": {},
   "duration": 11.68643,
   "end_time": "2022-07-05T19:07:50.739274",
   "environment_variables": {},
   "exception": null,
   "input_path": "__notebook__.ipynb",
   "output_path": "__notebook__.ipynb",
   "parameters": {},
   "start_time": "2022-07-05T19:07:39.052844",
   "version": "2.3.4"
  }
 },
 "nbformat": 4,
 "nbformat_minor": 5
}
